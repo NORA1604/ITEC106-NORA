{
  "nbformat": 4,
  "nbformat_minor": 0,
  "metadata": {
    "colab": {
      "provenance": []
    },
    "kernelspec": {
      "name": "python3",
      "display_name": "Python 3"
    },
    "language_info": {
      "name": "python"
    }
  },
  "cells": [
    {
      "cell_type": "markdown",
      "source": [
        "Agojo, Nigel Oliver R. - BSCS 2A"
      ],
      "metadata": {
        "id": "eIy9QrVfO-V1"
      }
    },
    {
      "cell_type": "markdown",
      "source": [
        "Datasets: Hours of Study, Attendance Percentage, Previous Exam Scores, Extracurricular Activities, Travel Time to School & Grades"
      ],
      "metadata": {
        "id": "vfAxmiL7Nwd-"
      }
    },
    {
      "cell_type": "markdown",
      "source": [
        "Import Libraries"
      ],
      "metadata": {
        "id": "xa-Ifqsb4juI"
      }
    },
    {
      "cell_type": "code",
      "source": [
        "import pandas as pd\n",
        "import numpy as np\n",
        "from sklearn.model_selection import train_test_split\n",
        "from sklearn.linear_model import LinearRegression"
      ],
      "metadata": {
        "id": "JN3YTF-84OGi"
      },
      "execution_count": null,
      "outputs": []
    },
    {
      "cell_type": "markdown",
      "source": [
        "1. Data Exploration\n"
      ],
      "metadata": {
        "id": "2M6CWRvBHmk-"
      }
    },
    {
      "cell_type": "code",
      "source": [
        "data_path = 'Lesson_4_student_grades_dataset.csv'\n",
        "dataset = pd.read_csv(data_path)"
      ],
      "metadata": {
        "id": "3eB4_W59HpFd"
      },
      "execution_count": null,
      "outputs": []
    },
    {
      "cell_type": "markdown",
      "source": [
        "Here we load the dataset file  \"Lesson_4_student_grades_dataset.csv\" to get our features and variables. Using sklearn, we can utilize features to help us compute the variables to  get the student grades. Each variable is important in determining the final grade for each student but 'Attendance Percentage', 'Previous Exam Scores' and 'Extracurricular Activities' have the most impact."
      ],
      "metadata": {
        "id": "lLbct4RdSs1F"
      }
    },
    {
      "cell_type": "markdown",
      "source": [
        "2. Data Preprocessing"
      ],
      "metadata": {
        "id": "owqM8-97IdLj"
      }
    },
    {
      "cell_type": "code",
      "source": [
        "x = dataset.drop('Grades', axis=1)\n",
        "y = dataset['Grades']\n",
        "\n",
        "print(dataset.isnull().sum())"
      ],
      "metadata": {
        "colab": {
          "base_uri": "https://localhost:8080/"
        },
        "id": "MTZgG7_RIfEL",
        "outputId": "83b0a690-194b-4100-f2e0-f9dad683e5a4"
      },
      "execution_count": null,
      "outputs": [
        {
          "output_type": "stream",
          "name": "stdout",
          "text": [
            "Hours_of_Study                0\n",
            "Attendance_Percentage         0\n",
            "Previous_Exam_Scores          0\n",
            "Extracurricular_Activities    0\n",
            "Travel_Time_to_School         0\n",
            "Grades                        0\n",
            "dtype: int64\n"
          ]
        }
      ]
    },
    {
      "cell_type": "markdown",
      "source": [
        "Here we use 'dataset.isnull().sum()' to check for any missing data to determine if we need to encode more variables if necessary. Standardizing the numerical features in the dataset to each sets allows for quicker computation and simpler results."
      ],
      "metadata": {
        "id": "zkM4HdJSTvJZ"
      }
    },
    {
      "cell_type": "markdown",
      "source": [
        "3. Train-Test Split"
      ],
      "metadata": {
        "id": "3A2R6MTGJI2T"
      }
    },
    {
      "cell_type": "code",
      "source": [
        "x_train, x_test, y_train, y_test=train_test_split(x,y, test_size=0.2, random_state=42)"
      ],
      "metadata": {
        "id": "EoacK-WJJPTy"
      },
      "execution_count": null,
      "outputs": []
    },
    {
      "cell_type": "markdown",
      "source": [
        "4. Linear Regression Model"
      ],
      "metadata": {
        "id": "Irn8ERZXQ5Js"
      }
    },
    {
      "cell_type": "code",
      "source": [
        "model = LinearRegression()"
      ],
      "metadata": {
        "id": "jgf5VnBaQ5-H"
      },
      "execution_count": null,
      "outputs": []
    },
    {
      "cell_type": "markdown",
      "source": [
        "5. Model Training"
      ],
      "metadata": {
        "id": "-a_g5mbKJqIc"
      }
    },
    {
      "cell_type": "code",
      "source": [
        "model.fit(x_train,y_train)"
      ],
      "metadata": {
        "colab": {
          "base_uri": "https://localhost:8080/",
          "height": 75
        },
        "id": "CWqooemGT5FY",
        "outputId": "15d7dadb-0fba-43cd-dde0-33befdd415ee"
      },
      "execution_count": null,
      "outputs": [
        {
          "output_type": "execute_result",
          "data": {
            "text/plain": [
              "LinearRegression()"
            ],
            "text/html": [
              "<style>#sk-container-id-4 {color: black;background-color: white;}#sk-container-id-4 pre{padding: 0;}#sk-container-id-4 div.sk-toggleable {background-color: white;}#sk-container-id-4 label.sk-toggleable__label {cursor: pointer;display: block;width: 100%;margin-bottom: 0;padding: 0.3em;box-sizing: border-box;text-align: center;}#sk-container-id-4 label.sk-toggleable__label-arrow:before {content: \"▸\";float: left;margin-right: 0.25em;color: #696969;}#sk-container-id-4 label.sk-toggleable__label-arrow:hover:before {color: black;}#sk-container-id-4 div.sk-estimator:hover label.sk-toggleable__label-arrow:before {color: black;}#sk-container-id-4 div.sk-toggleable__content {max-height: 0;max-width: 0;overflow: hidden;text-align: left;background-color: #f0f8ff;}#sk-container-id-4 div.sk-toggleable__content pre {margin: 0.2em;color: black;border-radius: 0.25em;background-color: #f0f8ff;}#sk-container-id-4 input.sk-toggleable__control:checked~div.sk-toggleable__content {max-height: 200px;max-width: 100%;overflow: auto;}#sk-container-id-4 input.sk-toggleable__control:checked~label.sk-toggleable__label-arrow:before {content: \"▾\";}#sk-container-id-4 div.sk-estimator input.sk-toggleable__control:checked~label.sk-toggleable__label {background-color: #d4ebff;}#sk-container-id-4 div.sk-label input.sk-toggleable__control:checked~label.sk-toggleable__label {background-color: #d4ebff;}#sk-container-id-4 input.sk-hidden--visually {border: 0;clip: rect(1px 1px 1px 1px);clip: rect(1px, 1px, 1px, 1px);height: 1px;margin: -1px;overflow: hidden;padding: 0;position: absolute;width: 1px;}#sk-container-id-4 div.sk-estimator {font-family: monospace;background-color: #f0f8ff;border: 1px dotted black;border-radius: 0.25em;box-sizing: border-box;margin-bottom: 0.5em;}#sk-container-id-4 div.sk-estimator:hover {background-color: #d4ebff;}#sk-container-id-4 div.sk-parallel-item::after {content: \"\";width: 100%;border-bottom: 1px solid gray;flex-grow: 1;}#sk-container-id-4 div.sk-label:hover label.sk-toggleable__label {background-color: #d4ebff;}#sk-container-id-4 div.sk-serial::before {content: \"\";position: absolute;border-left: 1px solid gray;box-sizing: border-box;top: 0;bottom: 0;left: 50%;z-index: 0;}#sk-container-id-4 div.sk-serial {display: flex;flex-direction: column;align-items: center;background-color: white;padding-right: 0.2em;padding-left: 0.2em;position: relative;}#sk-container-id-4 div.sk-item {position: relative;z-index: 1;}#sk-container-id-4 div.sk-parallel {display: flex;align-items: stretch;justify-content: center;background-color: white;position: relative;}#sk-container-id-4 div.sk-item::before, #sk-container-id-4 div.sk-parallel-item::before {content: \"\";position: absolute;border-left: 1px solid gray;box-sizing: border-box;top: 0;bottom: 0;left: 50%;z-index: -1;}#sk-container-id-4 div.sk-parallel-item {display: flex;flex-direction: column;z-index: 1;position: relative;background-color: white;}#sk-container-id-4 div.sk-parallel-item:first-child::after {align-self: flex-end;width: 50%;}#sk-container-id-4 div.sk-parallel-item:last-child::after {align-self: flex-start;width: 50%;}#sk-container-id-4 div.sk-parallel-item:only-child::after {width: 0;}#sk-container-id-4 div.sk-dashed-wrapped {border: 1px dashed gray;margin: 0 0.4em 0.5em 0.4em;box-sizing: border-box;padding-bottom: 0.4em;background-color: white;}#sk-container-id-4 div.sk-label label {font-family: monospace;font-weight: bold;display: inline-block;line-height: 1.2em;}#sk-container-id-4 div.sk-label-container {text-align: center;}#sk-container-id-4 div.sk-container {/* jupyter's `normalize.less` sets `[hidden] { display: none; }` but bootstrap.min.css set `[hidden] { display: none !important; }` so we also need the `!important` here to be able to override the default hidden behavior on the sphinx rendered scikit-learn.org. See: https://github.com/scikit-learn/scikit-learn/issues/21755 */display: inline-block !important;position: relative;}#sk-container-id-4 div.sk-text-repr-fallback {display: none;}</style><div id=\"sk-container-id-4\" class=\"sk-top-container\"><div class=\"sk-text-repr-fallback\"><pre>LinearRegression()</pre><b>In a Jupyter environment, please rerun this cell to show the HTML representation or trust the notebook. <br />On GitHub, the HTML representation is unable to render, please try loading this page with nbviewer.org.</b></div><div class=\"sk-container\" hidden><div class=\"sk-item\"><div class=\"sk-estimator sk-toggleable\"><input class=\"sk-toggleable__control sk-hidden--visually\" id=\"sk-estimator-id-4\" type=\"checkbox\" checked><label for=\"sk-estimator-id-4\" class=\"sk-toggleable__label sk-toggleable__label-arrow\">LinearRegression</label><div class=\"sk-toggleable__content\"><pre>LinearRegression()</pre></div></div></div></div></div>"
            ]
          },
          "metadata": {},
          "execution_count": 29
        }
      ]
    },
    {
      "cell_type": "markdown",
      "source": [
        "6. Predictions and Evaluations"
      ],
      "metadata": {
        "id": "7kU8OZZjQlFZ"
      }
    },
    {
      "cell_type": "code",
      "source": [
        "new_data = np.array([[5,90,80,1,30]])\n",
        "prediction = model.predict(new_data)\n",
        "\n",
        "print(f\"Predicted Grade: {prediction[0]}\")"
      ],
      "metadata": {
        "colab": {
          "base_uri": "https://localhost:8080/"
        },
        "id": "BflcdX7YQw48",
        "outputId": "ae9f2790-a734-416d-b242-0eb866b48b3e"
      },
      "execution_count": null,
      "outputs": [
        {
          "output_type": "stream",
          "name": "stdout",
          "text": [
            "Predicted Grade: 41.10240424753527\n"
          ]
        },
        {
          "output_type": "stream",
          "name": "stderr",
          "text": [
            "/usr/local/lib/python3.10/dist-packages/sklearn/base.py:439: UserWarning: X does not have valid feature names, but LinearRegression was fitted with feature names\n",
            "  warnings.warn(\n"
          ]
        }
      ]
    },
    {
      "cell_type": "markdown",
      "source": [
        "7. Feature Importance Analysis"
      ],
      "metadata": {
        "id": "F3roXet9RyQq"
      }
    },
    {
      "cell_type": "markdown",
      "source": [
        "There were many features utilized into the prediction for Student Grades, namely the 5 Datasets (Hours of Study, Attendance Percentage, Previous Exam Scores, Extracurricular Activities and Travel Time to School) for the variables needed and the Linear Regression Model to make the predictions."
      ],
      "metadata": {
        "id": "86xsO-IKVWVt"
      }
    },
    {
      "cell_type": "markdown",
      "source": [
        "8. Discussion"
      ],
      "metadata": {
        "id": "yAIGy-z-R05h"
      }
    },
    {
      "cell_type": "markdown",
      "source": [
        "Based on my observations, the factors that played the biggest role in the students grades were the Previous Exam Scores and Attendance Percentage. These 2 variables were the majority of the percentage of grades were derived from. The use of Linear Regression Model also helped simplify the process of predicting the grades."
      ],
      "metadata": {
        "id": "ohk0xwb1VWyu"
      }
    },
    {
      "cell_type": "markdown",
      "source": [
        "9. Scenario Extension"
      ],
      "metadata": {
        "id": "-bpMjYOzR2kK"
      }
    },
    {
      "cell_type": "markdown",
      "source": [
        "Some variables that can also affect student grades are more academic activities such as quizzes and projects. There is also the consideration of participation in discussions."
      ],
      "metadata": {
        "id": "moEvuMQrVXLI"
      }
    },
    {
      "cell_type": "markdown",
      "source": [
        "10. Reflection"
      ],
      "metadata": {
        "id": "BiolB3S_R4cw"
      }
    },
    {
      "cell_type": "markdown",
      "source": [
        "The Linear Regression Model is a useful tool that many people in different fields can utilize."
      ],
      "metadata": {
        "id": "4P_j7nmDVXuu"
      }
    }
  ]
}